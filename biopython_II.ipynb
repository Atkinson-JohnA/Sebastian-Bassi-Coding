{
  "nbformat": 4,
  "nbformat_minor": 0,
  "metadata": {
    "colab": {
      "provenance": []
    },
    "kernelspec": {
      "name": "python3",
      "display_name": "Python 3"
    },
    "language_info": {
      "name": "python"
    }
  },
  "cells": [
    {
      "cell_type": "code",
      "source": [
        "!pip install biopython\n",
        "!pip install requests"
      ],
      "metadata": {
        "colab": {
          "base_uri": "https://localhost:8080/"
        },
        "id": "eN1X5RgoxScN",
        "outputId": "cc0b36db-9dd9-4064-fc05-7407cdfb2f83"
      },
      "execution_count": null,
      "outputs": [
        {
          "output_type": "stream",
          "name": "stdout",
          "text": [
            "Requirement already satisfied: biopython in /usr/local/lib/python3.10/dist-packages (1.83)\n",
            "Requirement already satisfied: numpy in /usr/local/lib/python3.10/dist-packages (from biopython) (1.25.2)\n",
            "Requirement already satisfied: requests in /usr/local/lib/python3.10/dist-packages (2.31.0)\n",
            "Requirement already satisfied: charset-normalizer<4,>=2 in /usr/local/lib/python3.10/dist-packages (from requests) (3.3.2)\n",
            "Requirement already satisfied: idna<4,>=2.5 in /usr/local/lib/python3.10/dist-packages (from requests) (3.6)\n",
            "Requirement already satisfied: urllib3<3,>=1.21.1 in /usr/local/lib/python3.10/dist-packages (from requests) (2.0.7)\n",
            "Requirement already satisfied: certifi>=2017.4.17 in /usr/local/lib/python3.10/dist-packages (from requests) (2024.2.2)\n"
          ]
        }
      ]
    },
    {
      "cell_type": "code",
      "source": [],
      "metadata": {
        "id": "C7MQTuBRy7YT"
      },
      "execution_count": null,
      "outputs": []
    },
    {
      "cell_type": "code",
      "source": [
        "# download sequences from GH\n",
        "\n",
        "import requests\n",
        "\n",
        "FN = 'https://raw.githubusercontent.com/ToyokoLabs/Py4Bio/main/samples/NC_006581.gb'\n",
        "\n",
        "req = requests.get(FN)\n",
        "print(f'status: {req.status_code}')\n",
        "print(f'file content: {req.content[:500]}')"
      ],
      "metadata": {
        "colab": {
          "base_uri": "https://localhost:8080/"
        },
        "id": "FdsSP8b2xZIh",
        "outputId": "d8af685e-c4cd-4b15-8fe6-8a7549c69d47"
      },
      "execution_count": null,
      "outputs": [
        {
          "output_type": "stream",
          "name": "stdout",
          "text": [
            "status: 200\n",
            "file content: b'LOCUS       NC_006581             430597 bp    DNA     circular PLN 12-OCT-2007\\nDEFINITION  Nicotiana tabacum mitochondrion, complete genome.\\nACCESSION   NC_006581\\nVERSION     NC_006581.1\\nDBLINK      Project: 13292\\n            BioProject: PRJNA13292\\nKEYWORDS    RefSeq.\\nSOURCE      mitochondrion Nicotiana tabacum (common tobacco)\\n  ORGANISM  Nicotiana tabacum\\n            Eukaryota; Viridiplantae; Streptophyta; Embryophyta; Tracheophyta;\\n            Spermatophyta; Magnoliophyta; eudicotyledons; Gu'\n"
          ]
        }
      ]
    },
    {
      "cell_type": "code",
      "source": [
        "req.headers"
      ],
      "metadata": {
        "colab": {
          "base_uri": "https://localhost:8080/"
        },
        "id": "G_tHdNxYJWwR",
        "outputId": "904ca970-bda3-4f0e-a872-df505833dd48"
      },
      "execution_count": null,
      "outputs": [
        {
          "output_type": "execute_result",
          "data": {
            "text/plain": [
              "{'Connection': 'keep-alive', 'Content-Length': '215237', 'Cache-Control': 'max-age=300', 'Content-Security-Policy': \"default-src 'none'; style-src 'unsafe-inline'; sandbox\", 'Content-Type': 'text/plain; charset=utf-8', 'ETag': 'W/\"bb861625d556aec306ad8127d64acfd9b8891b2f0e2ad8beccf7533e74fc8524\"', 'Strict-Transport-Security': 'max-age=31536000', 'X-Content-Type-Options': 'nosniff', 'X-Frame-Options': 'deny', 'X-XSS-Protection': '1; mode=block', 'X-GitHub-Request-Id': 'B864:6FBE:FCCCB7:1296C08:65D2B9B0', 'Content-Encoding': 'gzip', 'Accept-Ranges': 'bytes', 'Date': 'Mon, 19 Feb 2024 02:15:15 GMT', 'Via': '1.1 varnish', 'X-Served-By': 'cache-chi-klot8100066-CHI', 'X-Cache': 'MISS', 'X-Cache-Hits': '0', 'X-Timer': 'S1708308915.240005,VS0,VE348', 'Vary': 'Authorization,Accept-Encoding,Origin', 'Access-Control-Allow-Origin': '*', 'Cross-Origin-Resource-Policy': 'cross-origin', 'X-Fastly-Request-ID': '0b5e154671d3185e0fe177437499882a1af9323c', 'Expires': 'Mon, 19 Feb 2024 02:20:15 GMT', 'Source-Age': '0'}"
            ]
          },
          "metadata": {},
          "execution_count": 81
        }
      ]
    },
    {
      "cell_type": "code",
      "source": [
        "with open('NC_006581.gb', 'wb') as fo:\n",
        "    fo.write(req.content)"
      ],
      "metadata": {
        "id": "-wSYK1lZ2tjL"
      },
      "execution_count": null,
      "outputs": []
    },
    {
      "cell_type": "code",
      "source": [
        "l = req.text.split(' ')"
      ],
      "metadata": {
        "id": "eYE95uSQJq6k"
      },
      "execution_count": null,
      "outputs": []
    },
    {
      "cell_type": "code",
      "source": [
        "l"
      ],
      "metadata": {
        "id": "XFkFgyknJ0Ex"
      },
      "execution_count": null,
      "outputs": []
    },
    {
      "cell_type": "code",
      "source": [
        "from Bio import SeqIO\n",
        "\n",
        "with open(\"NC_006581.gb\") as fh:\n",
        "    seq_record = SeqIO.read(fh, \"gb\")\n",
        "\n",
        "print(seq_record)"
      ],
      "metadata": {
        "colab": {
          "base_uri": "https://localhost:8080/"
        },
        "id": "OBr233HU0r1M",
        "outputId": "36ce82eb-3f3b-42c4-e9f1-6a853e3cbaa2"
      },
      "execution_count": null,
      "outputs": [
        {
          "output_type": "stream",
          "name": "stdout",
          "text": [
            "ID: NC_006581.1\n",
            "Name: NC_006581\n",
            "Description: Nicotiana tabacum mitochondrion, complete genome\n",
            "Database cross-references: Project:13292, BioProject:PRJNA13292\n",
            "Number of features: 412\n",
            "/molecule_type=DNA\n",
            "/topology=circular\n",
            "/data_file_division=PLN\n",
            "/date=12-OCT-2007\n",
            "/accessions=['NC_006581']\n",
            "/sequence_version=1\n",
            "/keywords=['RefSeq']\n",
            "/source=mitochondrion Nicotiana tabacum (common tobacco)\n",
            "/organism=Nicotiana tabacum\n",
            "/taxonomy=['Eukaryota', 'Viridiplantae', 'Streptophyta', 'Embryophyta', 'Tracheophyta', 'Spermatophyta', 'Magnoliophyta', 'eudicotyledons', 'Gunneridae', 'Pentapetalae', 'asterids', 'lamiids', 'Solanales', 'Solanaceae', 'Nicotianoideae', 'Nicotianeae', 'Nicotiana']\n",
            "/references=[Reference(title='The complete nucleotide sequence and multipartite organization of the tobacco mitochondrial genome: comparative analysis of mitochondrial genomes in higher plants', ...), Reference(title='Direct Submission', ...), Reference(title='Direct Submission', ...)]\n",
            "/comment=PROVISIONAL REFSEQ: This record has not yet been subject to final\n",
            "NCBI review. The reference sequence was derived from BA000042.\n",
            "COMPLETENESS: full length.\n",
            "Seq('ATTCACAGTGCTCTTCGCAATCTCGATCCTCGCAATGCTCTGCAACCCGAGGGT...GCG')\n"
          ]
        }
      ]
    },
    {
      "cell_type": "code",
      "source": [
        "dir(seq_record)"
      ],
      "metadata": {
        "colab": {
          "base_uri": "https://localhost:8080/"
        },
        "id": "gwThmeyt3icE",
        "outputId": "cacb7100-68d9-4ba9-a13c-1dfda910ff7b"
      },
      "execution_count": null,
      "outputs": [
        {
          "output_type": "execute_result",
          "data": {
            "text/plain": [
              "['_AnnotationsDict',\n",
              " '_AnnotationsDictValue',\n",
              " '__add__',\n",
              " '__annotations__',\n",
              " '__bool__',\n",
              " '__bytes__',\n",
              " '__class__',\n",
              " '__contains__',\n",
              " '__delattr__',\n",
              " '__dict__',\n",
              " '__dir__',\n",
              " '__doc__',\n",
              " '__eq__',\n",
              " '__format__',\n",
              " '__ge__',\n",
              " '__getattribute__',\n",
              " '__getitem__',\n",
              " '__gt__',\n",
              " '__hash__',\n",
              " '__init__',\n",
              " '__init_subclass__',\n",
              " '__iter__',\n",
              " '__le__',\n",
              " '__len__',\n",
              " '__lt__',\n",
              " '__module__',\n",
              " '__ne__',\n",
              " '__new__',\n",
              " '__radd__',\n",
              " '__reduce__',\n",
              " '__reduce_ex__',\n",
              " '__repr__',\n",
              " '__setattr__',\n",
              " '__sizeof__',\n",
              " '__str__',\n",
              " '__subclasshook__',\n",
              " '__weakref__',\n",
              " '_per_letter_annotations',\n",
              " '_seq',\n",
              " '_set_per_letter_annotations',\n",
              " '_set_seq',\n",
              " 'annotations',\n",
              " 'count',\n",
              " 'dbxrefs',\n",
              " 'description',\n",
              " 'features',\n",
              " 'format',\n",
              " 'id',\n",
              " 'islower',\n",
              " 'isupper',\n",
              " 'letter_annotations',\n",
              " 'lower',\n",
              " 'name',\n",
              " 'reverse_complement',\n",
              " 'seq',\n",
              " 'translate',\n",
              " 'upper']"
            ]
          },
          "metadata": {},
          "execution_count": 87
        }
      ]
    },
    {
      "cell_type": "code",
      "source": [
        "len(seq_record.features)"
      ],
      "metadata": {
        "colab": {
          "base_uri": "https://localhost:8080/"
        },
        "id": "8U3zgTXF3vhz",
        "outputId": "21320b11-2dfb-4ddd-a5c1-fc9db2501d5c"
      },
      "execution_count": null,
      "outputs": [
        {
          "output_type": "execute_result",
          "data": {
            "text/plain": [
              "412"
            ]
          },
          "metadata": {},
          "execution_count": 88
        }
      ]
    },
    {
      "cell_type": "code",
      "source": [
        "seq_record.features[:5]"
      ],
      "metadata": {
        "colab": {
          "base_uri": "https://localhost:8080/"
        },
        "id": "ovzf6w7W37gS",
        "outputId": "4832688f-0501-40f1-b603-2c0780a3bf12"
      },
      "execution_count": null,
      "outputs": [
        {
          "output_type": "execute_result",
          "data": {
            "text/plain": [
              "[SeqFeature(SimpleLocation(ExactPosition(0), ExactPosition(430597), strand=1), type='source', qualifiers=...),\n",
              " SeqFeature(SimpleLocation(ExactPosition(824), ExactPosition(1202), strand=1), type='gene', qualifiers=...),\n",
              " SeqFeature(SimpleLocation(ExactPosition(824), ExactPosition(1202), strand=1), type='CDS', qualifiers=...),\n",
              " SeqFeature(SimpleLocation(ExactPosition(2386), ExactPosition(2803), strand=1), type='gene', qualifiers=...),\n",
              " SeqFeature(SimpleLocation(ExactPosition(2386), ExactPosition(2803), strand=1), type='CDS', qualifiers=...)]"
            ]
          },
          "metadata": {},
          "execution_count": 89
        }
      ]
    },
    {
      "cell_type": "code",
      "source": [
        "sf1 = seq_record.features[0]"
      ],
      "metadata": {
        "id": "BAnts3xR4Gyi"
      },
      "execution_count": null,
      "outputs": []
    },
    {
      "cell_type": "code",
      "source": [
        "dir(sf1)"
      ],
      "metadata": {
        "colab": {
          "base_uri": "https://localhost:8080/"
        },
        "id": "Fd3pfk5K4Kn3",
        "outputId": "d8e4d404-20b2-4575-d00c-00b94afc0b32"
      },
      "execution_count": null,
      "outputs": [
        {
          "output_type": "execute_result",
          "data": {
            "text/plain": [
              "['__bool__',\n",
              " '__class__',\n",
              " '__contains__',\n",
              " '__delattr__',\n",
              " '__dict__',\n",
              " '__dir__',\n",
              " '__doc__',\n",
              " '__eq__',\n",
              " '__format__',\n",
              " '__ge__',\n",
              " '__getattribute__',\n",
              " '__gt__',\n",
              " '__hash__',\n",
              " '__init__',\n",
              " '__init_subclass__',\n",
              " '__iter__',\n",
              " '__le__',\n",
              " '__len__',\n",
              " '__lt__',\n",
              " '__module__',\n",
              " '__ne__',\n",
              " '__new__',\n",
              " '__reduce__',\n",
              " '__reduce_ex__',\n",
              " '__repr__',\n",
              " '__setattr__',\n",
              " '__sizeof__',\n",
              " '__str__',\n",
              " '__subclasshook__',\n",
              " '__weakref__',\n",
              " '_flip',\n",
              " '_get_ref',\n",
              " '_get_ref_db',\n",
              " '_get_strand',\n",
              " '_set_ref',\n",
              " '_set_ref_db',\n",
              " '_set_strand',\n",
              " '_shift',\n",
              " 'extract',\n",
              " 'id',\n",
              " 'location',\n",
              " 'qualifiers',\n",
              " 'ref',\n",
              " 'ref_db',\n",
              " 'strand',\n",
              " 'translate',\n",
              " 'type']"
            ]
          },
          "metadata": {},
          "execution_count": 91
        }
      ]
    },
    {
      "cell_type": "code",
      "source": [
        "sf1.id"
      ],
      "metadata": {
        "colab": {
          "base_uri": "https://localhost:8080/",
          "height": 35
        },
        "id": "jxnX0uCz4QJ_",
        "outputId": "36231bbf-e92b-45ec-ae36-ef9c682d78c3"
      },
      "execution_count": null,
      "outputs": [
        {
          "output_type": "execute_result",
          "data": {
            "text/plain": [
              "'<unknown id>'"
            ],
            "application/vnd.google.colaboratory.intrinsic+json": {
              "type": "string"
            }
          },
          "metadata": {},
          "execution_count": 92
        }
      ]
    },
    {
      "cell_type": "code",
      "source": [
        "seq_record.features[0].location"
      ],
      "metadata": {
        "colab": {
          "base_uri": "https://localhost:8080/"
        },
        "id": "s1dVp4M-4VV7",
        "outputId": "da9f4b32-e31b-4701-9270-ebb071080efa"
      },
      "execution_count": null,
      "outputs": [
        {
          "output_type": "execute_result",
          "data": {
            "text/plain": [
              "SimpleLocation(ExactPosition(0), ExactPosition(430597), strand=1)"
            ]
          },
          "metadata": {},
          "execution_count": 24
        }
      ]
    },
    {
      "cell_type": "code",
      "source": [
        "seq_record.features[0].qualifiers"
      ],
      "metadata": {
        "colab": {
          "base_uri": "https://localhost:8080/"
        },
        "id": "J3aImvpl4dwZ",
        "outputId": "79490cce-b659-42c0-e052-cab43455480b"
      },
      "execution_count": null,
      "outputs": [
        {
          "output_type": "execute_result",
          "data": {
            "text/plain": [
              "{'organism': ['Nicotiana tabacum'],\n",
              " 'organelle': ['mitochondrion'],\n",
              " 'mol_type': ['genomic DNA'],\n",
              " 'cultivar': ['Bright Yellow 4'],\n",
              " 'db_xref': ['taxon:4097'],\n",
              " 'tissue_type': ['leaf']}"
            ]
          },
          "metadata": {},
          "execution_count": 27
        }
      ]
    },
    {
      "cell_type": "code",
      "source": [
        "seq_record.features[1].qualifiers"
      ],
      "metadata": {
        "colab": {
          "base_uri": "https://localhost:8080/"
        },
        "id": "eHLLpvib4s6A",
        "outputId": "a73dcf50-f68d-4482-88c4-41b21e8b1829"
      },
      "execution_count": null,
      "outputs": [
        {
          "output_type": "execute_result",
          "data": {
            "text/plain": [
              "{'gene': ['orf125a'],\n",
              " 'locus_tag': ['NitaMp002'],\n",
              " 'db_xref': ['GeneID:3205187']}"
            ]
          },
          "metadata": {},
          "execution_count": 28
        }
      ]
    },
    {
      "cell_type": "code",
      "source": [
        "seq_record.features[1].type"
      ],
      "metadata": {
        "colab": {
          "base_uri": "https://localhost:8080/",
          "height": 35
        },
        "id": "BZNybiX37ls4",
        "outputId": "54485e7f-a00e-4ca4-fc1b-bd42a8d85207"
      },
      "execution_count": null,
      "outputs": [
        {
          "output_type": "execute_result",
          "data": {
            "text/plain": [
              "'gene'"
            ],
            "application/vnd.google.colaboratory.intrinsic+json": {
              "type": "string"
            }
          },
          "metadata": {},
          "execution_count": 33
        }
      ]
    },
    {
      "cell_type": "code",
      "source": [
        "seq_record.features[2].type"
      ],
      "metadata": {
        "colab": {
          "base_uri": "https://localhost:8080/",
          "height": 35
        },
        "id": "s4mS6d8Z8dym",
        "outputId": "03ed0f69-a875-40fe-fedf-285a13542f31"
      },
      "execution_count": null,
      "outputs": [
        {
          "output_type": "execute_result",
          "data": {
            "text/plain": [
              "'CDS'"
            ],
            "application/vnd.google.colaboratory.intrinsic+json": {
              "type": "string"
            }
          },
          "metadata": {},
          "execution_count": 34
        }
      ]
    },
    {
      "cell_type": "code",
      "source": [
        "seq_record.features[2].qualifiers"
      ],
      "metadata": {
        "colab": {
          "base_uri": "https://localhost:8080/"
        },
        "id": "GraRTSTX8hho",
        "outputId": "d13fda76-7d9a-4e9c-b83f-c1e53bac8461"
      },
      "execution_count": null,
      "outputs": [
        {
          "output_type": "execute_result",
          "data": {
            "text/plain": [
              "{'gene': ['orf125a'],\n",
              " 'locus_tag': ['NitaMp002'],\n",
              " 'codon_start': ['1'],\n",
              " 'product': ['hypothetical protein'],\n",
              " 'protein_id': ['YP_173352.1'],\n",
              " 'db_xref': ['GeneID:3205187'],\n",
              " 'translation': ['MRNTCKSRLKDKEGKSKRKESLSRSSSQRSKNSKAKSGLRHSNCMNVNLIYVTGLMIANAHKTNIITFFAGRRKEKTSETKWSEGEGGSTWNWLSVNPKYDIDRGKKISYMPKVHLRPSFQATMT']}"
            ]
          },
          "metadata": {},
          "execution_count": 36
        }
      ]
    },
    {
      "cell_type": "code",
      "source": [
        "seq_record.features[2].qualifiers['translation']"
      ],
      "metadata": {
        "colab": {
          "base_uri": "https://localhost:8080/"
        },
        "id": "xElczayG8srU",
        "outputId": "68cd7adc-66ff-4d3f-e70d-19be50137ec1"
      },
      "execution_count": null,
      "outputs": [
        {
          "output_type": "execute_result",
          "data": {
            "text/plain": [
              "['MRNTCKSRLKDKEGKSKRKESLSRSSSQRSKNSKAKSGLRHSNCMNVNLIYVTGLMIANAHKTNIITFFAGRRKEKTSETKWSEGEGGSTWNWLSVNPKYDIDRGKKISYMPKVHLRPSFQATMT']"
            ]
          },
          "metadata": {},
          "execution_count": 42
        }
      ]
    },
    {
      "cell_type": "code",
      "source": [
        "from Bio import SeqIO\n",
        "\n",
        "\n",
        "with open(\"NC_006581.gb\", \"r\") as fh:\n",
        "    seq_record = SeqIO.read(fh, \"gb\")\n",
        "with open(\"sequence.fasta\", \"w\") as fo:\n",
        "    SeqIO.write(seq_record, fo, \"fasta\")\n",
        "\n"
      ],
      "metadata": {
        "id": "kSuY922M62aW"
      },
      "execution_count": null,
      "outputs": []
    },
    {
      "cell_type": "code",
      "source": [
        "!wget https://raw.githubusercontent.com/ToyokoLabs/Py4Bio/main/samples/pdbaa"
      ],
      "metadata": {
        "colab": {
          "base_uri": "https://localhost:8080/"
        },
        "id": "GU8fxaMgA-JV",
        "outputId": "1b0eff3b-5e65-4237-dff7-432beb70b543"
      },
      "execution_count": null,
      "outputs": [
        {
          "output_type": "stream",
          "name": "stdout",
          "text": [
            "--2024-02-19 01:40:18--  https://raw.githubusercontent.com/ToyokoLabs/Py4Bio/main/samples/pdbaa\n",
            "Resolving raw.githubusercontent.com (raw.githubusercontent.com)... 185.199.108.133, 185.199.109.133, 185.199.110.133, ...\n",
            "Connecting to raw.githubusercontent.com (raw.githubusercontent.com)|185.199.108.133|:443... connected.\n",
            "HTTP request sent, awaiting response... 200 OK\n",
            "Length: 10886 (11K) [text/plain]\n",
            "Saving to: ‘pdbaa’\n",
            "\n",
            "\rpdbaa                 0%[                    ]       0  --.-KB/s               \rpdbaa               100%[===================>]  10.63K  --.-KB/s    in 0s      \n",
            "\n",
            "2024-02-19 01:40:19 (71.3 MB/s) - ‘pdbaa’ saved [10886/10886]\n",
            "\n"
          ]
        }
      ]
    },
    {
      "cell_type": "code",
      "source": [
        "with open(\"pdbaa\", \"r\") as fh:\n",
        "    seq_records = SeqIO.parse(fh, \"fasta\")\n",
        "\n",
        "print(seq_records)\n",
        "\n",
        "#with open(\"sequence.fasta\", \"w\") as fo:\n",
        "#    SeqIO.write(seq_record, fo, \"fasta\")\n",
        "\n",
        "\n"
      ],
      "metadata": {
        "colab": {
          "base_uri": "https://localhost:8080/"
        },
        "id": "Bw3C0N4mBYCK",
        "outputId": "a7f9f464-b050-4b47-a22f-cc731e865e44"
      },
      "execution_count": null,
      "outputs": [
        {
          "output_type": "stream",
          "name": "stdout",
          "text": [
            "<Bio.SeqIO.FastaIO.FastaIterator object at 0x7d0fdbbd4f40>\n"
          ]
        }
      ]
    },
    {
      "cell_type": "code",
      "source": [
        "with open(\"pdbaa\", \"r\") as fh:\n",
        "    seq_records = SeqIO.parse(fh, \"fasta\")\n",
        "    with open(\"sequences.pir\", \"w\") as fo:\n",
        "        SeqIO.write(seq_records, fo, \"pir\")"
      ],
      "metadata": {
        "id": "6uZt8IEoB8Me"
      },
      "execution_count": null,
      "outputs": []
    },
    {
      "cell_type": "code",
      "source": [
        "!wget https://raw.githubusercontent.com/ToyokoLabs/Py4Bio/main/samples/fasta22.fas"
      ],
      "metadata": {
        "colab": {
          "base_uri": "https://localhost:8080/"
        },
        "id": "iMW8oZR9EHZi",
        "outputId": "cb1d89c0-44b4-4d2a-ae76-3575766e24a4"
      },
      "execution_count": null,
      "outputs": [
        {
          "output_type": "stream",
          "name": "stdout",
          "text": [
            "--2024-02-19 02:39:29--  https://raw.githubusercontent.com/ToyokoLabs/Py4Bio/main/samples/fasta22.fas\n",
            "Resolving raw.githubusercontent.com (raw.githubusercontent.com)... 185.199.110.133, 185.199.111.133, 185.199.109.133, ...\n",
            "Connecting to raw.githubusercontent.com (raw.githubusercontent.com)|185.199.110.133|:443... connected.\n",
            "HTTP request sent, awaiting response... 200 OK\n",
            "Length: 385 [text/plain]\n",
            "Saving to: ‘fasta22.fas.1’\n",
            "\n",
            "\rfasta22.fas.1         0%[                    ]       0  --.-KB/s               \rfasta22.fas.1       100%[===================>]     385  --.-KB/s    in 0s      \n",
            "\n",
            "2024-02-19 02:39:29 (30.9 MB/s) - ‘fasta22.fas.1’ saved [385/385]\n",
            "\n"
          ]
        }
      ]
    },
    {
      "cell_type": "code",
      "source": [
        "with open(\"fasta22.fas\", \"r\") as fh:\n",
        "    seq_records = SeqIO.parse(fh, \"fasta\")\n",
        "    for rec in seq_records:\n",
        "        print(rec)\n",
        "        print('---')\n",
        "\n"
      ],
      "metadata": {
        "colab": {
          "base_uri": "https://localhost:8080/"
        },
        "id": "LGNOa5zSBvm3",
        "outputId": "ba5d5d21-d900-4b34-a74a-3c9083538b8d"
      },
      "execution_count": null,
      "outputs": [
        {
          "output_type": "stream",
          "name": "stdout",
          "text": [
            "ID: SSR86\n",
            "Name: SSR86\n",
            "Description: SSR86 [ssr] : Tomato-EXPEN 2000 map, chr 3\n",
            "Number of features: 0\n",
            "Seq('AGGCCAGCCCCCTTTTCCCTTAAGAACTCTTTGTGAGCTTCCCGCGGTGGCGGC...TAG')\n",
            "---\n",
            "ID: SSR91\n",
            "Name: SSR91\n",
            "Description: SSR91 [ssr]\n",
            "Number of features: 0\n",
            "Seq('')\n",
            "---\n",
            "ID: SSR252\n",
            "Name: SSR252\n",
            "Description: SSR252 [ssr]\n",
            "Number of features: 0\n",
            "Seq('TGGGCAGAGGAGCTCGTANGCATACCGCGAATTGGGTACACTTACCTGGTACCC...TCT')\n",
            "---\n",
            "ID: SSR257\n",
            "Name: SSR257\n",
            "Description: SSR257 [ssr]\n",
            "Number of features: 0\n",
            "Seq('TGAGAATGAGCACATCGATACGGCAATTGGTACACTTACCTGCGACCCCACCCG...GCC')\n",
            "---\n",
            "ID: SSR92\n",
            "Name: SSR92\n",
            "Description: SSR92 [ssr]  : Tomato-EXPEN 2000 map, chr 1\n",
            "Number of features: 0\n",
            "Seq('')\n",
            "---\n"
          ]
        }
      ]
    },
    {
      "cell_type": "code",
      "source": [
        "seq_records"
      ],
      "metadata": {
        "colab": {
          "base_uri": "https://localhost:8080/"
        },
        "id": "tNixYCXAEOLc",
        "outputId": "e62e4ea7-7358-4cf6-ed03-a9ca706f8436"
      },
      "execution_count": null,
      "outputs": [
        {
          "output_type": "execute_result",
          "data": {
            "text/plain": [
              "<Bio.SeqIO.FastaIO.FastaIterator at 0x7d0fdbb04220>"
            ]
          },
          "metadata": {},
          "execution_count": 59
        }
      ]
    },
    {
      "cell_type": "code",
      "source": [
        "next(seq_records)"
      ],
      "metadata": {
        "colab": {
          "base_uri": "https://localhost:8080/",
          "height": 287
        },
        "id": "tuxLUOQSEQ_q",
        "outputId": "64289286-01de-41e8-d744-2f3e817bbce5"
      },
      "execution_count": null,
      "outputs": [
        {
          "output_type": "error",
          "ename": "StopIteration",
          "evalue": "",
          "traceback": [
            "\u001b[0;31m---------------------------------------------------------------------------\u001b[0m",
            "\u001b[0;31mStopIteration\u001b[0m                             Traceback (most recent call last)",
            "\u001b[0;32m<ipython-input-97-00d4a2ca6a34>\u001b[0m in \u001b[0;36m<cell line: 1>\u001b[0;34m()\u001b[0m\n\u001b[0;32m----> 1\u001b[0;31m \u001b[0mnext\u001b[0m\u001b[0;34m(\u001b[0m\u001b[0mseq_records\u001b[0m\u001b[0;34m)\u001b[0m\u001b[0;34m\u001b[0m\u001b[0;34m\u001b[0m\u001b[0m\n\u001b[0m",
            "\u001b[0;32m/usr/local/lib/python3.10/dist-packages/Bio/SeqIO/Interfaces.py\u001b[0m in \u001b[0;36m__next__\u001b[0;34m(self)\u001b[0m\n\u001b[1;32m     83\u001b[0m         \u001b[0;34m\"\"\"Return the next entry.\"\"\"\u001b[0m\u001b[0;34m\u001b[0m\u001b[0;34m\u001b[0m\u001b[0m\n\u001b[1;32m     84\u001b[0m         \u001b[0;32mtry\u001b[0m\u001b[0;34m:\u001b[0m\u001b[0;34m\u001b[0m\u001b[0;34m\u001b[0m\u001b[0m\n\u001b[0;32m---> 85\u001b[0;31m             \u001b[0;32mreturn\u001b[0m \u001b[0mnext\u001b[0m\u001b[0;34m(\u001b[0m\u001b[0mself\u001b[0m\u001b[0;34m.\u001b[0m\u001b[0mrecords\u001b[0m\u001b[0;34m)\u001b[0m\u001b[0;34m\u001b[0m\u001b[0;34m\u001b[0m\u001b[0m\n\u001b[0m\u001b[1;32m     86\u001b[0m         \u001b[0;32mexcept\u001b[0m \u001b[0mException\u001b[0m\u001b[0;34m:\u001b[0m\u001b[0;34m\u001b[0m\u001b[0;34m\u001b[0m\u001b[0m\n\u001b[1;32m     87\u001b[0m             \u001b[0;32mif\u001b[0m \u001b[0mself\u001b[0m\u001b[0;34m.\u001b[0m\u001b[0mshould_close_stream\u001b[0m\u001b[0;34m:\u001b[0m\u001b[0;34m\u001b[0m\u001b[0;34m\u001b[0m\u001b[0m\n",
            "\u001b[0;31mStopIteration\u001b[0m: "
          ]
        }
      ]
    },
    {
      "cell_type": "code",
      "source": [
        "fh = open(\"fasta22.fas\", \"r\")\n",
        "seq_records = SeqIO.parse(fh, \"fasta\")\n",
        "print(next(seq_records))"
      ],
      "metadata": {
        "colab": {
          "base_uri": "https://localhost:8080/"
        },
        "id": "ItiVkKryP3RW",
        "outputId": "ea6a1c7a-ebab-424b-87f7-6799f40333fa"
      },
      "execution_count": null,
      "outputs": [
        {
          "output_type": "stream",
          "name": "stdout",
          "text": [
            "ID: SSR86\n",
            "Name: SSR86\n",
            "Description: SSR86 [ssr] : Tomato-EXPEN 2000 map, chr 3\n",
            "Number of features: 0\n",
            "Seq('AGGCCAGCCCCCTTTTCCCTTAAGAACTCTTTGTGAGCTTCCCGCGGTGGCGGC...TAG')\n"
          ]
        }
      ]
    },
    {
      "cell_type": "code",
      "source": [
        "print(next(seq_records))"
      ],
      "metadata": {
        "colab": {
          "base_uri": "https://localhost:8080/"
        },
        "id": "SwLJFC52QbLI",
        "outputId": "3f02eaba-8eba-41ab-d1fb-aadbfee58a6c"
      },
      "execution_count": null,
      "outputs": [
        {
          "output_type": "stream",
          "name": "stdout",
          "text": [
            "ID: SSR91\n",
            "Name: SSR91\n",
            "Description: SSR91 [ssr]\n",
            "Number of features: 0\n",
            "Seq('')\n"
          ]
        }
      ]
    },
    {
      "cell_type": "code",
      "source": [
        "next(seq_records)"
      ],
      "metadata": {
        "colab": {
          "base_uri": "https://localhost:8080/",
          "height": 329
        },
        "id": "_NXS6dJiP-LB",
        "outputId": "fb5ac8d0-09b9-4610-edc1-0b884c7da357"
      },
      "execution_count": null,
      "outputs": [
        {
          "output_type": "error",
          "ename": "ValueError",
          "evalue": "I/O operation on closed file.",
          "traceback": [
            "\u001b[0;31m---------------------------------------------------------------------------\u001b[0m",
            "\u001b[0;31mValueError\u001b[0m                                Traceback (most recent call last)",
            "\u001b[0;32m<ipython-input-99-00d4a2ca6a34>\u001b[0m in \u001b[0;36m<cell line: 1>\u001b[0;34m()\u001b[0m\n\u001b[0;32m----> 1\u001b[0;31m \u001b[0mnext\u001b[0m\u001b[0;34m(\u001b[0m\u001b[0mseq_records\u001b[0m\u001b[0;34m)\u001b[0m\u001b[0;34m\u001b[0m\u001b[0;34m\u001b[0m\u001b[0m\n\u001b[0m",
            "\u001b[0;32m/usr/local/lib/python3.10/dist-packages/Bio/SeqIO/Interfaces.py\u001b[0m in \u001b[0;36m__next__\u001b[0;34m(self)\u001b[0m\n\u001b[1;32m     83\u001b[0m         \u001b[0;34m\"\"\"Return the next entry.\"\"\"\u001b[0m\u001b[0;34m\u001b[0m\u001b[0;34m\u001b[0m\u001b[0m\n\u001b[1;32m     84\u001b[0m         \u001b[0;32mtry\u001b[0m\u001b[0;34m:\u001b[0m\u001b[0;34m\u001b[0m\u001b[0;34m\u001b[0m\u001b[0m\n\u001b[0;32m---> 85\u001b[0;31m             \u001b[0;32mreturn\u001b[0m \u001b[0mnext\u001b[0m\u001b[0;34m(\u001b[0m\u001b[0mself\u001b[0m\u001b[0;34m.\u001b[0m\u001b[0mrecords\u001b[0m\u001b[0;34m)\u001b[0m\u001b[0;34m\u001b[0m\u001b[0;34m\u001b[0m\u001b[0m\n\u001b[0m\u001b[1;32m     86\u001b[0m         \u001b[0;32mexcept\u001b[0m \u001b[0mException\u001b[0m\u001b[0;34m:\u001b[0m\u001b[0;34m\u001b[0m\u001b[0;34m\u001b[0m\u001b[0m\n\u001b[1;32m     87\u001b[0m             \u001b[0;32mif\u001b[0m \u001b[0mself\u001b[0m\u001b[0;34m.\u001b[0m\u001b[0mshould_close_stream\u001b[0m\u001b[0;34m:\u001b[0m\u001b[0;34m\u001b[0m\u001b[0;34m\u001b[0m\u001b[0m\n",
            "\u001b[0;32m/usr/local/lib/python3.10/dist-packages/Bio/SeqIO/FastaIO.py\u001b[0m in \u001b[0;36miterate\u001b[0;34m(self, handle)\u001b[0m\n\u001b[1;32m    197\u001b[0m     \u001b[0;32mdef\u001b[0m \u001b[0miterate\u001b[0m\u001b[0;34m(\u001b[0m\u001b[0mself\u001b[0m\u001b[0;34m,\u001b[0m \u001b[0mhandle\u001b[0m\u001b[0;34m)\u001b[0m\u001b[0;34m:\u001b[0m\u001b[0;34m\u001b[0m\u001b[0;34m\u001b[0m\u001b[0m\n\u001b[1;32m    198\u001b[0m         \u001b[0;34m\"\"\"Parse the file and generate SeqRecord objects.\"\"\"\u001b[0m\u001b[0;34m\u001b[0m\u001b[0;34m\u001b[0m\u001b[0m\n\u001b[0;32m--> 199\u001b[0;31m         \u001b[0;32mfor\u001b[0m \u001b[0mtitle\u001b[0m\u001b[0;34m,\u001b[0m \u001b[0msequence\u001b[0m \u001b[0;32min\u001b[0m \u001b[0mSimpleFastaParser\u001b[0m\u001b[0;34m(\u001b[0m\u001b[0mhandle\u001b[0m\u001b[0;34m)\u001b[0m\u001b[0;34m:\u001b[0m\u001b[0;34m\u001b[0m\u001b[0;34m\u001b[0m\u001b[0m\n\u001b[0m\u001b[1;32m    200\u001b[0m             \u001b[0;32mtry\u001b[0m\u001b[0;34m:\u001b[0m\u001b[0;34m\u001b[0m\u001b[0;34m\u001b[0m\u001b[0m\n\u001b[1;32m    201\u001b[0m                 \u001b[0mfirst_word\u001b[0m \u001b[0;34m=\u001b[0m \u001b[0mtitle\u001b[0m\u001b[0;34m.\u001b[0m\u001b[0msplit\u001b[0m\u001b[0;34m(\u001b[0m\u001b[0;32mNone\u001b[0m\u001b[0;34m,\u001b[0m \u001b[0;36m1\u001b[0m\u001b[0;34m)\u001b[0m\u001b[0;34m[\u001b[0m\u001b[0;36m0\u001b[0m\u001b[0;34m]\u001b[0m\u001b[0;34m\u001b[0m\u001b[0;34m\u001b[0m\u001b[0m\n",
            "\u001b[0;32m/usr/local/lib/python3.10/dist-packages/Bio/SeqIO/FastaIO.py\u001b[0m in \u001b[0;36mSimpleFastaParser\u001b[0;34m(handle)\u001b[0m\n\u001b[1;32m     50\u001b[0m     \"\"\"\n\u001b[1;32m     51\u001b[0m     \u001b[0;31m# Skip any text before the first record (e.g. blank lines, comments)\u001b[0m\u001b[0;34m\u001b[0m\u001b[0;34m\u001b[0m\u001b[0m\n\u001b[0;32m---> 52\u001b[0;31m     \u001b[0;32mfor\u001b[0m \u001b[0mline\u001b[0m \u001b[0;32min\u001b[0m \u001b[0mhandle\u001b[0m\u001b[0;34m:\u001b[0m\u001b[0;34m\u001b[0m\u001b[0;34m\u001b[0m\u001b[0m\n\u001b[0m\u001b[1;32m     53\u001b[0m         \u001b[0;32mif\u001b[0m \u001b[0mline\u001b[0m\u001b[0;34m[\u001b[0m\u001b[0;36m0\u001b[0m\u001b[0;34m]\u001b[0m \u001b[0;34m==\u001b[0m \u001b[0;34m\">\"\u001b[0m\u001b[0;34m:\u001b[0m\u001b[0;34m\u001b[0m\u001b[0;34m\u001b[0m\u001b[0m\n\u001b[1;32m     54\u001b[0m             \u001b[0mtitle\u001b[0m \u001b[0;34m=\u001b[0m \u001b[0mline\u001b[0m\u001b[0;34m[\u001b[0m\u001b[0;36m1\u001b[0m\u001b[0;34m:\u001b[0m\u001b[0;34m]\u001b[0m\u001b[0;34m.\u001b[0m\u001b[0mrstrip\u001b[0m\u001b[0;34m(\u001b[0m\u001b[0;34m)\u001b[0m\u001b[0;34m\u001b[0m\u001b[0;34m\u001b[0m\u001b[0m\n",
            "\u001b[0;31mValueError\u001b[0m: I/O operation on closed file."
          ]
        }
      ]
    },
    {
      "cell_type": "code",
      "source": [
        "with open(\"fasta22.fas\", \"r\") as fh:\n",
        "    seq_records = SeqIO.parse(fh, \"fasta\")\n",
        "    record1 = next(seq_records)"
      ],
      "metadata": {
        "id": "GwuFfxPUEbvP"
      },
      "execution_count": null,
      "outputs": []
    },
    {
      "cell_type": "code",
      "source": [
        "record1"
      ],
      "metadata": {
        "colab": {
          "base_uri": "https://localhost:8080/"
        },
        "id": "wHsPXtfFEmp4",
        "outputId": "b5c93433-9947-401e-d3bb-ca8c03104e48"
      },
      "execution_count": null,
      "outputs": [
        {
          "output_type": "execute_result",
          "data": {
            "text/plain": [
              "SeqRecord(seq=Seq('AGGCCAGCCCCCTTTTCCCTTAAGAACTCTTTGTGAGCTTCCCGCGGTGGCGGC...TAG'), id='SSR86', name='SSR86', description='SSR86 [ssr] : Tomato-EXPEN 2000 map, chr 3', dbxrefs=[])"
            ]
          },
          "metadata": {},
          "execution_count": 67
        }
      ]
    },
    {
      "cell_type": "code",
      "source": [
        "dir(record1)"
      ],
      "metadata": {
        "colab": {
          "base_uri": "https://localhost:8080/"
        },
        "id": "DIf-JWyfEsZe",
        "outputId": "512aa578-4e20-48f7-8389-8501cf124966"
      },
      "execution_count": null,
      "outputs": [
        {
          "output_type": "execute_result",
          "data": {
            "text/plain": [
              "['_AnnotationsDict',\n",
              " '_AnnotationsDictValue',\n",
              " '__add__',\n",
              " '__annotations__',\n",
              " '__bool__',\n",
              " '__bytes__',\n",
              " '__class__',\n",
              " '__contains__',\n",
              " '__delattr__',\n",
              " '__dict__',\n",
              " '__dir__',\n",
              " '__doc__',\n",
              " '__eq__',\n",
              " '__format__',\n",
              " '__ge__',\n",
              " '__getattribute__',\n",
              " '__getitem__',\n",
              " '__gt__',\n",
              " '__hash__',\n",
              " '__init__',\n",
              " '__init_subclass__',\n",
              " '__iter__',\n",
              " '__le__',\n",
              " '__len__',\n",
              " '__lt__',\n",
              " '__module__',\n",
              " '__ne__',\n",
              " '__new__',\n",
              " '__radd__',\n",
              " '__reduce__',\n",
              " '__reduce_ex__',\n",
              " '__repr__',\n",
              " '__setattr__',\n",
              " '__sizeof__',\n",
              " '__str__',\n",
              " '__subclasshook__',\n",
              " '__weakref__',\n",
              " '_per_letter_annotations',\n",
              " '_seq',\n",
              " '_set_per_letter_annotations',\n",
              " '_set_seq',\n",
              " 'annotations',\n",
              " 'count',\n",
              " 'dbxrefs',\n",
              " 'description',\n",
              " 'features',\n",
              " 'format',\n",
              " 'id',\n",
              " 'islower',\n",
              " 'isupper',\n",
              " 'letter_annotations',\n",
              " 'lower',\n",
              " 'name',\n",
              " 'reverse_complement',\n",
              " 'seq',\n",
              " 'translate',\n",
              " 'upper']"
            ]
          },
          "metadata": {},
          "execution_count": 68
        }
      ]
    },
    {
      "cell_type": "code",
      "source": [
        "record1.seq"
      ],
      "metadata": {
        "colab": {
          "base_uri": "https://localhost:8080/"
        },
        "id": "o0-iZ66gEoFg",
        "outputId": "0ae4cdc3-c2c2-4c66-c517-e0451f5d1d02"
      },
      "execution_count": null,
      "outputs": [
        {
          "output_type": "execute_result",
          "data": {
            "text/plain": [
              "Seq('AGGCCAGCCCCCTTTTCCCTTAAGAACTCTTTGTGAGCTTCCCGCGGTGGCGGC...TAG')"
            ]
          },
          "metadata": {},
          "execution_count": 69
        }
      ]
    },
    {
      "cell_type": "code",
      "source": [
        "seq1 = record1.seq"
      ],
      "metadata": {
        "id": "R3cJCq9zDinS"
      },
      "execution_count": null,
      "outputs": []
    },
    {
      "cell_type": "code",
      "source": [
        "dir(seq1)"
      ],
      "metadata": {
        "colab": {
          "base_uri": "https://localhost:8080/"
        },
        "id": "vyTx70JTDnyk",
        "outputId": "bfb8cbf4-083a-4c39-e6f3-7dd8897fd77f"
      },
      "execution_count": null,
      "outputs": [
        {
          "output_type": "execute_result",
          "data": {
            "text/plain": [
              "['__abstractmethods__',\n",
              " '__add__',\n",
              " '__annotations__',\n",
              " '__array_ufunc__',\n",
              " '__bytes__',\n",
              " '__class__',\n",
              " '__contains__',\n",
              " '__delattr__',\n",
              " '__dict__',\n",
              " '__dir__',\n",
              " '__doc__',\n",
              " '__eq__',\n",
              " '__format__',\n",
              " '__ge__',\n",
              " '__getattribute__',\n",
              " '__getitem__',\n",
              " '__gt__',\n",
              " '__hash__',\n",
              " '__imul__',\n",
              " '__init__',\n",
              " '__init_subclass__',\n",
              " '__iter__',\n",
              " '__le__',\n",
              " '__len__',\n",
              " '__lt__',\n",
              " '__module__',\n",
              " '__mul__',\n",
              " '__ne__',\n",
              " '__new__',\n",
              " '__radd__',\n",
              " '__reduce__',\n",
              " '__reduce_ex__',\n",
              " '__repr__',\n",
              " '__rmul__',\n",
              " '__setattr__',\n",
              " '__sizeof__',\n",
              " '__slots__',\n",
              " '__str__',\n",
              " '__subclasshook__',\n",
              " '__weakref__',\n",
              " '_abc_impl',\n",
              " '_data',\n",
              " 'back_transcribe',\n",
              " 'complement',\n",
              " 'complement_rna',\n",
              " 'count',\n",
              " 'count_overlap',\n",
              " 'defined',\n",
              " 'defined_ranges',\n",
              " 'endswith',\n",
              " 'find',\n",
              " 'index',\n",
              " 'islower',\n",
              " 'isupper',\n",
              " 'join',\n",
              " 'lower',\n",
              " 'lstrip',\n",
              " 'removeprefix',\n",
              " 'removesuffix',\n",
              " 'replace',\n",
              " 'reverse_complement',\n",
              " 'reverse_complement_rna',\n",
              " 'rfind',\n",
              " 'rindex',\n",
              " 'rsplit',\n",
              " 'rstrip',\n",
              " 'search',\n",
              " 'split',\n",
              " 'startswith',\n",
              " 'strip',\n",
              " 'transcribe',\n",
              " 'translate',\n",
              " 'upper']"
            ]
          },
          "metadata": {},
          "execution_count": 71
        }
      ]
    },
    {
      "cell_type": "code",
      "source": [
        "seq1.translate()"
      ],
      "metadata": {
        "colab": {
          "base_uri": "https://localhost:8080/"
        },
        "id": "Hyf9whFsE42m",
        "outputId": "8f48fbce-fe7b-4f9d-92fc-8020f7160fbe"
      },
      "execution_count": null,
      "outputs": [
        {
          "output_type": "stream",
          "name": "stderr",
          "text": [
            "/usr/local/lib/python3.10/dist-packages/Bio/Seq.py:2880: BiopythonWarning: Partial codon, len(sequence) not a multiple of three. Explicitly trim the sequence or add trailing N before translation. This may become an error in future.\n",
            "  warnings.warn(\n"
          ]
        },
        {
          "output_type": "execute_result",
          "data": {
            "text/plain": [
              "Seq('RPAPFSLKNSL*ASRGGGRS')"
            ]
          },
          "metadata": {},
          "execution_count": 72
        }
      ]
    },
    {
      "cell_type": "code",
      "source": [
        "seq1[0]"
      ],
      "metadata": {
        "colab": {
          "base_uri": "https://localhost:8080/",
          "height": 35
        },
        "id": "C4fIvCBnFJES",
        "outputId": "d2e8331d-fc54-4556-98de-8a9e77a71ca6"
      },
      "execution_count": null,
      "outputs": [
        {
          "output_type": "execute_result",
          "data": {
            "text/plain": [
              "'A'"
            ],
            "application/vnd.google.colaboratory.intrinsic+json": {
              "type": "string"
            }
          },
          "metadata": {},
          "execution_count": 73
        }
      ]
    },
    {
      "cell_type": "code",
      "source": [
        "seq1[0] = 'T'"
      ],
      "metadata": {
        "colab": {
          "base_uri": "https://localhost:8080/",
          "height": 144
        },
        "id": "Mekn4ByUFLfi",
        "outputId": "28577c72-16b2-4c70-8983-03d0ad37852b"
      },
      "execution_count": null,
      "outputs": [
        {
          "output_type": "error",
          "ename": "TypeError",
          "evalue": "'Seq' object does not support item assignment",
          "traceback": [
            "\u001b[0;31m---------------------------------------------------------------------------\u001b[0m",
            "\u001b[0;31mTypeError\u001b[0m                                 Traceback (most recent call last)",
            "\u001b[0;32m<ipython-input-74-949d395e6142>\u001b[0m in \u001b[0;36m<cell line: 1>\u001b[0;34m()\u001b[0m\n\u001b[0;32m----> 1\u001b[0;31m \u001b[0mseq1\u001b[0m\u001b[0;34m[\u001b[0m\u001b[0;36m0\u001b[0m\u001b[0;34m]\u001b[0m \u001b[0;34m=\u001b[0m \u001b[0;34m'T'\u001b[0m\u001b[0;34m\u001b[0m\u001b[0;34m\u001b[0m\u001b[0m\n\u001b[0m",
            "\u001b[0;31mTypeError\u001b[0m: 'Seq' object does not support item assignment"
          ]
        }
      ]
    },
    {
      "cell_type": "code",
      "source": [
        "from Bio.Align import MultipleSeqAlignment\n",
        "from Bio.SeqRecord import SeqRecord, Seq\n",
        "\n",
        "seq1 = 'MHQAIFIYQIGYPLKSGYIQSIRSPEYDNW'\n",
        "seq2 = 'MH--IFIYQIGYALKSGYIQSIRSPEY-NW'\n",
        "seq_rec_1 = SeqRecord(Seq(seq1), id = 'asp')\n",
        "seq_rec_2 = SeqRecord(Seq(seq2), id = 'unk')\n",
        "align = MultipleSeqAlignment([seq_rec_1, seq_rec_2])\n",
        "print(align)"
      ],
      "metadata": {
        "colab": {
          "base_uri": "https://localhost:8080/"
        },
        "id": "Jd1MHepBFoUf",
        "outputId": "66c71a8b-86d4-436c-e55f-3f04643a0dad"
      },
      "execution_count": null,
      "outputs": [
        {
          "output_type": "stream",
          "name": "stdout",
          "text": [
            "Alignment with 2 rows and 30 columns\n",
            "MHQAIFIYQIGYPLKSGYIQSIRSPEYDNW asp\n",
            "MH--IFIYQIGYALKSGYIQSIRSPEY-NW unk\n"
          ]
        }
      ]
    },
    {
      "cell_type": "code",
      "source": [
        "from Bio import pairwise2\n",
        "\n",
        "seq1 = 'MHQAIFIYQIGYPLKSGYIQSIRSPEYDNW'\n",
        "seq2 = 'MHIFIYQIGYALKSGYIQSIRSPEYNW'\n",
        "\n",
        "alignments = pairwise2.align.globalxx(seq1, seq2)\n",
        "print(alignments)"
      ],
      "metadata": {
        "colab": {
          "base_uri": "https://localhost:8080/"
        },
        "id": "knOrqqVJGfHi",
        "outputId": "2ac29a51-8ce4-4f8e-f0ed-5c204dad7931"
      },
      "execution_count": null,
      "outputs": [
        {
          "output_type": "stream",
          "name": "stdout",
          "text": [
            "[Alignment(seqA='MHQAIFIYQIGYP-LKSGYIQSIRSPEYDNW', seqB='MH--IFIYQIGY-ALKSGYIQSIRSPEY-NW', score=26.0, start=0, end=31), Alignment(seqA='MHQAIFIYQIGYPLKSGYIQSIRSPEYDNW', seqB='MH--IFIYQIGYALKSGYIQSIRSPEY-NW', score=26.0, start=0, end=30)]\n"
          ]
        }
      ]
    },
    {
      "cell_type": "code",
      "source": [
        "alignments[0]"
      ],
      "metadata": {
        "colab": {
          "base_uri": "https://localhost:8080/"
        },
        "id": "KCR48-IoTsjK",
        "outputId": "e214d45a-e9a2-4d17-8f40-9586a5b5d937"
      },
      "execution_count": null,
      "outputs": [
        {
          "output_type": "execute_result",
          "data": {
            "text/plain": [
              "Alignment(seqA='MHQAIFIYQIGYP-LKSGYIQSIRSPEYDNW', seqB='MH--IFIYQIGY-ALKSGYIQSIRSPEY-NW', score=26.0, start=0, end=31)"
            ]
          },
          "metadata": {},
          "execution_count": 106
        }
      ]
    },
    {
      "cell_type": "code",
      "source": [
        "alignments[1]"
      ],
      "metadata": {
        "colab": {
          "base_uri": "https://localhost:8080/"
        },
        "id": "puGVTNrwUA2n",
        "outputId": "8b3d471f-8f51-47dc-93fd-2bc5df5046bb"
      },
      "execution_count": null,
      "outputs": [
        {
          "output_type": "execute_result",
          "data": {
            "text/plain": [
              "Alignment(seqA='MHQAIFIYQIGYPLKSGYIQSIRSPEYDNW', seqB='MH--IFIYQIGYALKSGYIQSIRSPEY-NW', score=26.0, start=0, end=30)"
            ]
          },
          "metadata": {},
          "execution_count": 107
        }
      ]
    },
    {
      "cell_type": "code",
      "source": [
        "#from ctypes import alignment\n",
        "alignment1 = alignments[0]\n",
        "dir(alignment1)"
      ],
      "metadata": {
        "colab": {
          "base_uri": "https://localhost:8080/"
        },
        "id": "32CUxnkmUOIX",
        "outputId": "ed8cec2d-28d5-4944-b649-aa207c1377f7"
      },
      "execution_count": null,
      "outputs": [
        {
          "output_type": "execute_result",
          "data": {
            "text/plain": [
              "['__add__',\n",
              " '__class__',\n",
              " '__class_getitem__',\n",
              " '__contains__',\n",
              " '__delattr__',\n",
              " '__dir__',\n",
              " '__doc__',\n",
              " '__eq__',\n",
              " '__format__',\n",
              " '__ge__',\n",
              " '__getattribute__',\n",
              " '__getitem__',\n",
              " '__getnewargs__',\n",
              " '__gt__',\n",
              " '__hash__',\n",
              " '__init__',\n",
              " '__init_subclass__',\n",
              " '__iter__',\n",
              " '__le__',\n",
              " '__len__',\n",
              " '__lt__',\n",
              " '__match_args__',\n",
              " '__module__',\n",
              " '__mul__',\n",
              " '__ne__',\n",
              " '__new__',\n",
              " '__reduce__',\n",
              " '__reduce_ex__',\n",
              " '__repr__',\n",
              " '__rmul__',\n",
              " '__setattr__',\n",
              " '__sizeof__',\n",
              " '__slots__',\n",
              " '__str__',\n",
              " '__subclasshook__',\n",
              " '_asdict',\n",
              " '_field_defaults',\n",
              " '_fields',\n",
              " '_make',\n",
              " '_replace',\n",
              " 'count',\n",
              " 'end',\n",
              " 'index',\n",
              " 'score',\n",
              " 'seqA',\n",
              " 'seqB',\n",
              " 'start']"
            ]
          },
          "metadata": {},
          "execution_count": 109
        }
      ]
    },
    {
      "cell_type": "code",
      "source": [
        "alignment1.seqB"
      ],
      "metadata": {
        "id": "MITISlllUdNK",
        "outputId": "cbd55208-3c34-49e2-8595-566df4650ad7",
        "colab": {
          "base_uri": "https://localhost:8080/",
          "height": 35
        }
      },
      "execution_count": null,
      "outputs": [
        {
          "output_type": "execute_result",
          "data": {
            "text/plain": [
              "'MH--IFIYQIGY-ALKSGYIQSIRSPEY-NW'"
            ],
            "application/vnd.google.colaboratory.intrinsic+json": {
              "type": "string"
            }
          },
          "metadata": {},
          "execution_count": 111
        }
      ]
    },
    {
      "cell_type": "code",
      "source": [
        "seq1.tomutable()"
      ],
      "metadata": {
        "colab": {
          "base_uri": "https://localhost:8080/",
          "height": 144
        },
        "id": "0uvy3N7pFPU5",
        "outputId": "f435aebf-b3a0-4b5c-dfb6-67925b0eeb77"
      },
      "execution_count": null,
      "outputs": [
        {
          "output_type": "error",
          "ename": "AttributeError",
          "evalue": "'Seq' object has no attribute 'tomutable'",
          "traceback": [
            "\u001b[0;31m---------------------------------------------------------------------------\u001b[0m",
            "\u001b[0;31mAttributeError\u001b[0m                            Traceback (most recent call last)",
            "\u001b[0;32m<ipython-input-75-1bbe70115dd5>\u001b[0m in \u001b[0;36m<cell line: 1>\u001b[0;34m()\u001b[0m\n\u001b[0;32m----> 1\u001b[0;31m \u001b[0mseq1\u001b[0m\u001b[0;34m.\u001b[0m\u001b[0mtomutable\u001b[0m\u001b[0;34m(\u001b[0m\u001b[0;34m)\u001b[0m\u001b[0;34m\u001b[0m\u001b[0;34m\u001b[0m\u001b[0m\n\u001b[0m",
            "\u001b[0;31mAttributeError\u001b[0m: 'Seq' object has no attribute 'tomutable'"
          ]
        }
      ]
    }
  ]
}